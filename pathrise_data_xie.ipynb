{
 "cells": [
  {
   "cell_type": "markdown",
   "metadata": {},
   "source": [
    "## (April 2020)\n",
    "\n",
    "Note: The data behind the Inside Airbnb site is sourced from publicly available information from the Airbnb site(full description can be found [here](http://insideairbnb.com/get-the-data.html)).\n",
    "\n",
    "### Exploratory Analysis\n",
    "\n",
    "First, we take a look at the dataset and format the variables we need for next step analysis."
   ]
  },
  {
   "cell_type": "code",
   "execution_count": 2,
   "metadata": {},
   "outputs": [],
   "source": [
    "import matplotlib.pyplot as plt \n",
    "import numpy as np \n",
    "import pandas as pd \n",
    "import statsmodels.formula.api as smf\n",
    "df1 = pd.read_csv('/Users/zxie/Dropbox/class/pathrise/listings.csv', delimiter=',', low_memory=False)\n",
    "df1.head(5)\n",
    "df1.dtypes\n",
    "df1['price'] = df1['price'].str.replace(',','').str.replace('$','').astype('float') #change price type from object to float"
   ]
  },
  {
   "cell_type": "markdown",
   "metadata": {},
   "source": [
    "Now, I will take a few variables out from the origional dataset for analysis. The variables include room features('accommodates','bathrooms','bedrooms','beds', 'square_feet', 'price'), and reviews ('number_of_reviews', 'review_scores_rating', 'reviews_per_month'). I also have the summary statistics for price, accommodates as well as the over all review scores."
   ]
  },
  {
   "cell_type": "code",
   "execution_count": 3,
   "metadata": {},
   "outputs": [
    {
     "data": {
      "text/plain": [
       "count    17861.00000\n",
       "mean        94.97962\n",
       "std          6.63050\n",
       "min         20.00000\n",
       "25%         93.00000\n",
       "50%         97.00000\n",
       "75%        100.00000\n",
       "max        100.00000\n",
       "Name: review_scores_rating, dtype: float64"
      ]
     },
     "execution_count": 3,
     "metadata": {},
     "output_type": "execute_result"
    }
   ],
   "source": [
    "sample = df1[['accommodates','bathrooms','bedrooms','beds', 'square_feet', 'price', 'number_of_reviews', 'review_scores_rating', 'reviews_per_month']]\n",
    "sample.dtypes\n",
    "sample['price'].describe()\n",
    "sample['accommodates'].describe()\n",
    "sample['review_scores_rating'].describe()"
   ]
  },
  {
   "cell_type": "markdown",
   "metadata": {},
   "source": [
    "Since we want to estimate the price as function of related variables and the to predict price, I plot the histgram and the calculate the correlation among the selected variables."
   ]
  },
  {
   "cell_type": "code",
   "execution_count": 4,
   "metadata": {},
   "outputs": [
    {
     "data": {
      "text/html": [
       "<div>\n",
       "<style scoped>\n",
       "    .dataframe tbody tr th:only-of-type {\n",
       "        vertical-align: middle;\n",
       "    }\n",
       "\n",
       "    .dataframe tbody tr th {\n",
       "        vertical-align: top;\n",
       "    }\n",
       "\n",
       "    .dataframe thead th {\n",
       "        text-align: right;\n",
       "    }\n",
       "</style>\n",
       "<table border=\"1\" class=\"dataframe\">\n",
       "  <thead>\n",
       "    <tr style=\"text-align: right;\">\n",
       "      <th></th>\n",
       "      <th>accommodates</th>\n",
       "      <th>bathrooms</th>\n",
       "      <th>bedrooms</th>\n",
       "      <th>beds</th>\n",
       "      <th>square_feet</th>\n",
       "      <th>price</th>\n",
       "      <th>number_of_reviews</th>\n",
       "      <th>review_scores_rating</th>\n",
       "      <th>reviews_per_month</th>\n",
       "    </tr>\n",
       "  </thead>\n",
       "  <tbody>\n",
       "    <tr>\n",
       "      <td>accommodates</td>\n",
       "      <td>1.000000</td>\n",
       "      <td>0.352549</td>\n",
       "      <td>0.712780</td>\n",
       "      <td>0.793941</td>\n",
       "      <td>0.125371</td>\n",
       "      <td>0.318070</td>\n",
       "      <td>-0.057256</td>\n",
       "      <td>-0.032821</td>\n",
       "      <td>-0.072817</td>\n",
       "    </tr>\n",
       "    <tr>\n",
       "      <td>bathrooms</td>\n",
       "      <td>0.352549</td>\n",
       "      <td>1.000000</td>\n",
       "      <td>0.420539</td>\n",
       "      <td>0.380573</td>\n",
       "      <td>0.197186</td>\n",
       "      <td>0.201558</td>\n",
       "      <td>-0.044042</td>\n",
       "      <td>0.030898</td>\n",
       "      <td>-0.030155</td>\n",
       "    </tr>\n",
       "    <tr>\n",
       "      <td>bedrooms</td>\n",
       "      <td>0.712780</td>\n",
       "      <td>0.420539</td>\n",
       "      <td>1.000000</td>\n",
       "      <td>0.753351</td>\n",
       "      <td>0.146613</td>\n",
       "      <td>0.277833</td>\n",
       "      <td>-0.107524</td>\n",
       "      <td>0.022861</td>\n",
       "      <td>-0.145658</td>\n",
       "    </tr>\n",
       "    <tr>\n",
       "      <td>beds</td>\n",
       "      <td>0.793941</td>\n",
       "      <td>0.380573</td>\n",
       "      <td>0.753351</td>\n",
       "      <td>1.000000</td>\n",
       "      <td>0.042569</td>\n",
       "      <td>0.267178</td>\n",
       "      <td>-0.027880</td>\n",
       "      <td>-0.017964</td>\n",
       "      <td>-0.051371</td>\n",
       "    </tr>\n",
       "    <tr>\n",
       "      <td>square_feet</td>\n",
       "      <td>0.125371</td>\n",
       "      <td>0.197186</td>\n",
       "      <td>0.146613</td>\n",
       "      <td>0.042569</td>\n",
       "      <td>1.000000</td>\n",
       "      <td>0.359093</td>\n",
       "      <td>-0.171776</td>\n",
       "      <td>0.053178</td>\n",
       "      <td>-0.165653</td>\n",
       "    </tr>\n",
       "    <tr>\n",
       "      <td>price</td>\n",
       "      <td>0.318070</td>\n",
       "      <td>0.201558</td>\n",
       "      <td>0.277833</td>\n",
       "      <td>0.267178</td>\n",
       "      <td>0.359093</td>\n",
       "      <td>1.000000</td>\n",
       "      <td>-0.068596</td>\n",
       "      <td>0.029884</td>\n",
       "      <td>-0.058623</td>\n",
       "    </tr>\n",
       "    <tr>\n",
       "      <td>number_of_reviews</td>\n",
       "      <td>-0.057256</td>\n",
       "      <td>-0.044042</td>\n",
       "      <td>-0.107524</td>\n",
       "      <td>-0.027880</td>\n",
       "      <td>-0.171776</td>\n",
       "      <td>-0.068596</td>\n",
       "      <td>1.000000</td>\n",
       "      <td>0.013895</td>\n",
       "      <td>0.659671</td>\n",
       "    </tr>\n",
       "    <tr>\n",
       "      <td>review_scores_rating</td>\n",
       "      <td>-0.032821</td>\n",
       "      <td>0.030898</td>\n",
       "      <td>0.022861</td>\n",
       "      <td>-0.017964</td>\n",
       "      <td>0.053178</td>\n",
       "      <td>0.029884</td>\n",
       "      <td>0.013895</td>\n",
       "      <td>1.000000</td>\n",
       "      <td>0.013674</td>\n",
       "    </tr>\n",
       "    <tr>\n",
       "      <td>reviews_per_month</td>\n",
       "      <td>-0.072817</td>\n",
       "      <td>-0.030155</td>\n",
       "      <td>-0.145658</td>\n",
       "      <td>-0.051371</td>\n",
       "      <td>-0.165653</td>\n",
       "      <td>-0.058623</td>\n",
       "      <td>0.659671</td>\n",
       "      <td>0.013674</td>\n",
       "      <td>1.000000</td>\n",
       "    </tr>\n",
       "  </tbody>\n",
       "</table>\n",
       "</div>"
      ],
      "text/plain": [
       "                      accommodates  bathrooms  bedrooms      beds  \\\n",
       "accommodates              1.000000   0.352549  0.712780  0.793941   \n",
       "bathrooms                 0.352549   1.000000  0.420539  0.380573   \n",
       "bedrooms                  0.712780   0.420539  1.000000  0.753351   \n",
       "beds                      0.793941   0.380573  0.753351  1.000000   \n",
       "square_feet               0.125371   0.197186  0.146613  0.042569   \n",
       "price                     0.318070   0.201558  0.277833  0.267178   \n",
       "number_of_reviews        -0.057256  -0.044042 -0.107524 -0.027880   \n",
       "review_scores_rating     -0.032821   0.030898  0.022861 -0.017964   \n",
       "reviews_per_month        -0.072817  -0.030155 -0.145658 -0.051371   \n",
       "\n",
       "                      square_feet     price  number_of_reviews  \\\n",
       "accommodates             0.125371  0.318070          -0.057256   \n",
       "bathrooms                0.197186  0.201558          -0.044042   \n",
       "bedrooms                 0.146613  0.277833          -0.107524   \n",
       "beds                     0.042569  0.267178          -0.027880   \n",
       "square_feet              1.000000  0.359093          -0.171776   \n",
       "price                    0.359093  1.000000          -0.068596   \n",
       "number_of_reviews       -0.171776 -0.068596           1.000000   \n",
       "review_scores_rating     0.053178  0.029884           0.013895   \n",
       "reviews_per_month       -0.165653 -0.058623           0.659671   \n",
       "\n",
       "                      review_scores_rating  reviews_per_month  \n",
       "accommodates                     -0.032821          -0.072817  \n",
       "bathrooms                         0.030898          -0.030155  \n",
       "bedrooms                          0.022861          -0.145658  \n",
       "beds                             -0.017964          -0.051371  \n",
       "square_feet                       0.053178          -0.165653  \n",
       "price                             0.029884          -0.058623  \n",
       "number_of_reviews                 0.013895           0.659671  \n",
       "review_scores_rating              1.000000           0.013674  \n",
       "reviews_per_month                 0.013674           1.000000  "
      ]
     },
     "execution_count": 4,
     "metadata": {},
     "output_type": "execute_result"
    },
    {
     "data": {
      "image/png": "[encoded data removed]",
      "text/plain": [
       "<Figure size 432x288 with 9 Axes>"
      ]
     },
     "metadata": {
      "needs_background": "light"
     },
     "output_type": "display_data"
    }
   ],
   "source": [
    "hist = sample.hist()\n",
    "sample.corr()"
   ]
  },
  {
   "cell_type": "markdown",
   "metadata": {},
   "source": [
    "I also plot price grouped by the accommodates and the review_scores_rating. The figures are as follows:"
   ]
  },
  {
   "cell_type": "code",
   "execution_count": 5,
   "metadata": {},
   "outputs": [
    {
     "data": {
      "text/plain": [
       "Text(0, 0.5, 'Price')"
      ]
     },
     "execution_count": 5,
     "metadata": {},
     "output_type": "execute_result"
    },
    {
     "data": {
      "image/png": "[encoded data removed]",
      "text/plain": [
       "<Figure size 432x288 with 1 Axes>"
      ]
     },
     "metadata": {
      "needs_background": "light"
     },
     "output_type": "display_data"
    }
   ],
   "source": [
    "grouped = sample.groupby('accommodates')\n",
    "mean_price_by_accommodates = grouped['price'].mean()\n",
    "plt.plot(mean_price_by_accommodates,'o', alpha=0.5)\n",
    "plt.xlabel('Accommodates')\n",
    "plt.ylabel('Price')"
   ]
  },
  {
   "cell_type": "code",
   "execution_count": 6,
   "metadata": {},
   "outputs": [
    {
     "data": {
      "text/plain": [
       "Text(0, 0.5, 'Price')"
      ]
     },
     "execution_count": 6,
     "metadata": {},
     "output_type": "execute_result"
    },
    {
     "data": {
      "image/png": "[encoded data removed]",
      "text/plain": [
       "<Figure size 432x288 with 1 Axes>"
      ]
     },
     "metadata": {
      "needs_background": "light"
     },
     "output_type": "display_data"
    }
   ],
   "source": [
    "grouped = sample.groupby('review_scores_rating')\n",
    "mean_price_by_review = grouped['price'].mean()\n",
    "plt.plot(mean_price_by_review,'o', alpha=0.5)\n",
    "plt.xlabel('Reviews')\n",
    "plt.ylabel('Price')"
   ]
  },
  {
   "cell_type": "markdown",
   "metadata": {},
   "source": [
    "Now we select accommodates and the review_scores_rating as expantory variables for price, the next step is to set up a ordinary least square regression.\n",
    "\n",
    "### Prediction"
   ]
  },
  {
   "cell_type": "code",
   "execution_count": 7,
   "metadata": {},
   "outputs": [
    {
     "data": {
      "text/plain": [
       "Intercept              -38.358979\n",
       "accommodates            38.149988\n",
       "review_scores_rating     0.870264\n",
       "dtype: float64"
      ]
     },
     "execution_count": 7,
     "metadata": {},
     "output_type": "execute_result"
    }
   ],
   "source": [
    "results = smf.ols('price ~ accommodates + review_scores_rating',data = sample).fit()\n",
    "results.params"
   ]
  },
  {
   "cell_type": "markdown",
   "metadata": {},
   "source": [
    "Next, I re-build a dataframe to make predictions for price. To start with an example, I set the accommodates euqals to 2 and the review_scores_rating ranges from 20 to 100:"
   ]
  },
  {
   "cell_type": "code",
   "execution_count": 8,
   "metadata": {},
   "outputs": [],
   "source": [
    "df_p = pd.DataFrame()\n",
    "df_p['accommodates'] = np.linspace(2, 2)\n",
    "df_p['review_scores_rating'] = np.linspace(20, 100)\n",
    "df_p.head()\n",
    "pred_p = results.predict(df_p)"
   ]
  },
  {
   "cell_type": "markdown",
   "metadata": {},
   "source": [
    "The we plot the predictions with the mean price by review:"
   ]
  },
  {
   "cell_type": "code",
   "execution_count": 9,
   "metadata": {},
   "outputs": [
    {
     "data": {
      "text/plain": [
       "<matplotlib.legend.Legend at 0x7fe046b06150>"
      ]
     },
     "execution_count": 9,
     "metadata": {},
     "output_type": "execute_result"
    },
    {
     "data": {
      "image/png": "[encoded data removed]",
      "text/plain": [
       "<Figure size 432x288 with 1 Axes>"
      ]
     },
     "metadata": {
      "needs_background": "light"
     },
     "output_type": "display_data"
    }
   ],
   "source": [
    "plt.plot(df_p['review_scores_rating'], pred_p, label='accommodates(2)')\n",
    "plt.plot(mean_price_by_review,'o', alpha=0.5)\n",
    "plt.xlabel('review_scores_rating')\n",
    "plt.ylabel('Price')\n",
    "plt.legend()"
   ]
  },
  {
   "cell_type": "markdown",
   "metadata": {},
   "source": [
    "#### [END]This is a sample data manipulation. Thanks for review."
   ]
  }
 ],
 "metadata": {
  "kernelspec": {
   "display_name": "Python 3",
   "language": "python",
   "name": "python3"
  },
  "language_info": {
   "codemirror_mode": {
    "name": "ipython",
    "version": 3
   },
   "file_extension": ".py",
   "mimetype": "text/x-python",
   "name": "python",
   "nbconvert_exporter": "python",
   "pygments_lexer": "ipython3",
   "version": "3.7.4"
  }
 },
 "nbformat": 4,
 "nbformat_minor": 2
}
