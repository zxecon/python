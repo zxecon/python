{
 "cells": [
  {
   "cell_type": "markdown",
   "metadata": {},
   "source": [
    "## Task for Data Scientist Position – Industry Cluster Bubble Charts\n",
    "### Voinovich School of Leadership and Public Affairs/Ohio University\n",
    "#### Author: Ziqi Xie  E-mail: zxietulane@gmail.com"
   ]
  },
  {
   "cell_type": "markdown",
   "metadata": {},
   "source": [
    "This notebook is for data scientist position at the Voinovich School of Leadership and Public Affairs. The primary purpose is to create industry cluster bubble charts, which analyze the industries' comparative advantage of Ohio as well as the Adams County. The notebook is arranged as follows: Section 1 briefly discusses the industry cluster method; Section 2 introduces the data (since the data is NOT the actual data, I will present how I generate the dataset); Section 3 shows the charts along with essential description analysis; Section 4 concludes with a discussion on challenges."
   ]
  },
  {
   "cell_type": "markdown",
   "metadata": {},
   "source": [
    "### Section 1. Introduction"
   ]
  },
  {
   "cell_type": "markdown",
   "metadata": {},
   "source": [
    "The industry cluster bubble chart provides an intuitive analysis of how the industries developed during the past few years for a specific region. It helps us as well as policymakers, understand the current status and development of the sectors in this region. Specifically, it involves two dimensions of analysis: location quotient analysis (LQ) and shift-share analysis(SS). LQ is calculated as follows:"
   ]
  },
  {
   "cell_type": "markdown",
   "metadata": {},
   "source": [
    "$LQ = \\frac{\\frac{Regional\\ Industry \\ Employment}{Regional \\ Total \\ Employment}}{\\frac{National \\ Industry \\ Employment}{National \\ Total \\ Employment}}$"
   ]
  },
  {
   "cell_type": "markdown",
   "metadata": {},
   "source": [
    "Thus, if LQ is higher than one, the industry in this region has higher employment rate than the national level; if LQ is less than one, it indicates the industry may have less power in employment; if LQ equals one, the industry is the same with the national level. The shift-share analysis compares the sector with itself:"
   ]
  },
  {
   "cell_type": "markdown",
   "metadata": {},
   "source": [
    "$SS = \\frac{Current \\ Job\\# \\ - \\ Jobs\\# \\ (5yr ago)}{Jobs\\# \\ (5yr ago)}$"
   ]
  },
  {
   "cell_type": "markdown",
   "metadata": {},
   "source": [
    "Therefore, if SS is greater than zero, the industry in this region is growing in the past five years; if SS is less than zero, it declined over the years. Now, let's combine the LQ and SS in one graph. "
   ]
  },
  {
   "cell_type": "code",
   "execution_count": 1,
   "metadata": {},
   "outputs": [
    {
     "data": {
      "image/png": "[encoded data removed]",
      "text/plain": [
       "<Figure size 432x288 with 1 Axes>"
      ]
     },
     "metadata": {
      "needs_background": "light"
     },
     "output_type": "display_data"
    }
   ],
   "source": [
    "%matplotlib inline\n",
    "import numpy as np\n",
    "import pandas as pd\n",
    "from matplotlib import pyplot as plt\n",
    "\n",
    "#data Frame for X,Y\n",
    "df1 = pd.DataFrame ({'x': range(-5, 6)})\n",
    "df1['y']=(1*df1['x'])\n",
    "\n",
    "plt.plot(df1.x, df1.y, color=\"None\")\n",
    "plt.xlabel('Employment Growth')\n",
    "plt.ylabel('Location Quotient')\n",
    "#axis lines for 0,0\n",
    "plt.axhline(y=1)\n",
    "plt.axvline()\n",
    "\n",
    "plt.text(3,3,'Star')\n",
    "plt.text(-3,3,'Mature')\n",
    "plt.text(-3,-2, 'Decline')\n",
    "plt.text(3,-2,'Emerging')\n",
    "plt.show()"
   ]
  },
  {
   "cell_type": "markdown",
   "metadata": {},
   "source": [
    "Based on the definition of LQ and SS, we can have industries placed in four quadrants: Top-right is for \"star industries(LQ>1, SS>0); Top-left is for \"mature\" industries(LQ>1, SS<0, strong but declining); Bottom-left is for 'declining' industries(LQ<1, SQ<0, weak and falling); Botton-right is for 'emerging' industries(LS<1, SS>0, weak but growing). Within this graph in mind, we can start to cluster local industries in these four quadrants and analyze their strength and weakness."
   ]
  },
  {
   "cell_type": "markdown",
   "metadata": {},
   "source": [
    "### Section 2. Data"
   ]
  },
  {
   "cell_type": "markdown",
   "metadata": {},
   "source": [
    "Since I do not have data of industries in Ohio and Adams County, I generate a sample dataset for demonstration purposes. "
   ]
  },
  {
   "cell_type": "code",
   "execution_count": 2,
   "metadata": {},
   "outputs": [],
   "source": [
    "# Set the seed so that the numbers can be reproduced.\n",
    "np.random.seed(0)  \n",
    "ai1=['lq'] #analysis indicator ls\n",
    "ai2=['ss'] #analysis indicator ss\n",
    "emp=['emp']#no. of jobs\n",
    "ind=['ind'] #industry code (ranges from 1-5)\n",
    "\n",
    "df_ai11 = pd.DataFrame(-2 + 6*np.random.randn(5000,1), columns=ai1)\n",
    "df_ai12 = pd.DataFrame(-1 + 4*np.random.randn(5000,1), columns=ai2)\n",
    "df_emp1 = pd.DataFrame(np.random.randint(1000,5000,(5000,1)), columns=emp)\n",
    "df_ind1 = pd.DataFrame(np.random.randint(1,6,(5000,1)), columns=ind)\n",
    "df1 = pd.concat([df_ai11, df_ai12, df_emp1, df_ind1], axis=1)\n",
    "df1['state']='Ohio'\n",
    "df1['county']='Adams'\n",
    "\n",
    "df_ai21 = pd.DataFrame(-2 + 6*np.random.randn(5000,1), columns=ai1)\n",
    "df_ai22 = pd.DataFrame(-1 + 4*np.random.randn(5000,1), columns=ai2)\n",
    "df_emp2 = pd.DataFrame(np.random.randint(1000,5000,(5000,1)), columns=emp)\n",
    "df_ind2 = pd.DataFrame(np.random.randint(1,6,(5000,1)), columns=ind)\n",
    "df2 = pd.concat([df_ai21, df_ai22, df_emp2, df_ind2], axis=1)\n",
    "df2['state']='Ohio'\n",
    "df2['county']='Pike'\n",
    "\n",
    "df_full=df1.append(df2)\n",
    "df_full.to_csv(\"industry.csv\")"
   ]
  },
  {
   "cell_type": "markdown",
   "metadata": {},
   "source": [
    "The data can be downloaded [here](https://github.com/zxecon/python/blob/master/industry.csv). I have also attached the data in the e-mail. First, let's look at the data."
   ]
  },
  {
   "cell_type": "code",
   "execution_count": 3,
   "metadata": {},
   "outputs": [
    {
     "data": {
      "text/html": [
       "<div>\n",
       "<style scoped>\n",
       "    .dataframe tbody tr th:only-of-type {\n",
       "        vertical-align: middle;\n",
       "    }\n",
       "\n",
       "    .dataframe tbody tr th {\n",
       "        vertical-align: top;\n",
       "    }\n",
       "\n",
       "    .dataframe thead th {\n",
       "        text-align: right;\n",
       "    }\n",
       "</style>\n",
       "<table border=\"1\" class=\"dataframe\">\n",
       "  <thead>\n",
       "    <tr style=\"text-align: right;\">\n",
       "      <th></th>\n",
       "      <th>Unnamed: 0</th>\n",
       "      <th>lq</th>\n",
       "      <th>ss</th>\n",
       "      <th>emp</th>\n",
       "      <th>ind</th>\n",
       "      <th>state</th>\n",
       "      <th>county</th>\n",
       "    </tr>\n",
       "  </thead>\n",
       "  <tbody>\n",
       "    <tr>\n",
       "      <th>0</th>\n",
       "      <td>0</td>\n",
       "      <td>8.584314</td>\n",
       "      <td>0.238895</td>\n",
       "      <td>4084</td>\n",
       "      <td>2</td>\n",
       "      <td>Ohio</td>\n",
       "      <td>Adams</td>\n",
       "    </tr>\n",
       "    <tr>\n",
       "      <th>1</th>\n",
       "      <td>1</td>\n",
       "      <td>0.400943</td>\n",
       "      <td>-3.949825</td>\n",
       "      <td>2552</td>\n",
       "      <td>3</td>\n",
       "      <td>Ohio</td>\n",
       "      <td>Adams</td>\n",
       "    </tr>\n",
       "    <tr>\n",
       "      <th>2</th>\n",
       "      <td>2</td>\n",
       "      <td>3.872428</td>\n",
       "      <td>-7.147680</td>\n",
       "      <td>2940</td>\n",
       "      <td>1</td>\n",
       "      <td>Ohio</td>\n",
       "      <td>Adams</td>\n",
       "    </tr>\n",
       "    <tr>\n",
       "      <th>3</th>\n",
       "      <td>3</td>\n",
       "      <td>11.445359</td>\n",
       "      <td>-3.249019</td>\n",
       "      <td>2441</td>\n",
       "      <td>3</td>\n",
       "      <td>Ohio</td>\n",
       "      <td>Adams</td>\n",
       "    </tr>\n",
       "    <tr>\n",
       "      <th>4</th>\n",
       "      <td>4</td>\n",
       "      <td>9.205348</td>\n",
       "      <td>-7.398044</td>\n",
       "      <td>2483</td>\n",
       "      <td>5</td>\n",
       "      <td>Ohio</td>\n",
       "      <td>Adams</td>\n",
       "    </tr>\n",
       "  </tbody>\n",
       "</table>\n",
       "</div>"
      ],
      "text/plain": [
       "   Unnamed: 0         lq        ss   emp  ind state county\n",
       "0           0   8.584314  0.238895  4084    2  Ohio  Adams\n",
       "1           1   0.400943 -3.949825  2552    3  Ohio  Adams\n",
       "2           2   3.872428 -7.147680  2940    1  Ohio  Adams\n",
       "3           3  11.445359 -3.249019  2441    3  Ohio  Adams\n",
       "4           4   9.205348 -7.398044  2483    5  Ohio  Adams"
      ]
     },
     "execution_count": 3,
     "metadata": {},
     "output_type": "execute_result"
    }
   ],
   "source": [
    "industry_df = pd.read_csv(\"/Users/zxie/Dropbox/cluster/industry.csv\")\n",
    "industry_df.head()"
   ]
  },
  {
   "cell_type": "code",
   "execution_count": 4,
   "metadata": {},
   "outputs": [
    {
     "data": {
      "text/html": [
       "<div>\n",
       "<style scoped>\n",
       "    .dataframe tbody tr th:only-of-type {\n",
       "        vertical-align: middle;\n",
       "    }\n",
       "\n",
       "    .dataframe tbody tr th {\n",
       "        vertical-align: top;\n",
       "    }\n",
       "\n",
       "    .dataframe thead th {\n",
       "        text-align: right;\n",
       "    }\n",
       "</style>\n",
       "<table border=\"1\" class=\"dataframe\">\n",
       "  <thead>\n",
       "    <tr style=\"text-align: right;\">\n",
       "      <th></th>\n",
       "      <th>Unnamed: 0</th>\n",
       "      <th>lq</th>\n",
       "      <th>ss</th>\n",
       "      <th>emp</th>\n",
       "      <th>ind</th>\n",
       "    </tr>\n",
       "  </thead>\n",
       "  <tbody>\n",
       "    <tr>\n",
       "      <th>count</th>\n",
       "      <td>10000.000000</td>\n",
       "      <td>10000.000000</td>\n",
       "      <td>10000.000000</td>\n",
       "      <td>10000.000000</td>\n",
       "      <td>10000.000000</td>\n",
       "    </tr>\n",
       "    <tr>\n",
       "      <th>mean</th>\n",
       "      <td>2499.500000</td>\n",
       "      <td>-2.028716</td>\n",
       "      <td>-1.038673</td>\n",
       "      <td>3006.209800</td>\n",
       "      <td>2.996200</td>\n",
       "    </tr>\n",
       "    <tr>\n",
       "      <th>std</th>\n",
       "      <td>1443.447818</td>\n",
       "      <td>5.962566</td>\n",
       "      <td>4.001245</td>\n",
       "      <td>1161.623652</td>\n",
       "      <td>1.407545</td>\n",
       "    </tr>\n",
       "    <tr>\n",
       "      <th>min</th>\n",
       "      <td>0.000000</td>\n",
       "      <td>-24.440604</td>\n",
       "      <td>-17.845081</td>\n",
       "      <td>1000.000000</td>\n",
       "      <td>1.000000</td>\n",
       "    </tr>\n",
       "    <tr>\n",
       "      <th>25%</th>\n",
       "      <td>1249.750000</td>\n",
       "      <td>-6.109291</td>\n",
       "      <td>-3.680474</td>\n",
       "      <td>2001.750000</td>\n",
       "      <td>2.000000</td>\n",
       "    </tr>\n",
       "    <tr>\n",
       "      <th>50%</th>\n",
       "      <td>2499.500000</td>\n",
       "      <td>-1.984134</td>\n",
       "      <td>-1.056515</td>\n",
       "      <td>3002.000000</td>\n",
       "      <td>3.000000</td>\n",
       "    </tr>\n",
       "    <tr>\n",
       "      <th>75%</th>\n",
       "      <td>3749.250000</td>\n",
       "      <td>1.946252</td>\n",
       "      <td>1.634423</td>\n",
       "      <td>4025.000000</td>\n",
       "      <td>4.000000</td>\n",
       "    </tr>\n",
       "    <tr>\n",
       "      <th>max</th>\n",
       "      <td>4999.000000</td>\n",
       "      <td>21.383910</td>\n",
       "      <td>14.997987</td>\n",
       "      <td>4999.000000</td>\n",
       "      <td>5.000000</td>\n",
       "    </tr>\n",
       "  </tbody>\n",
       "</table>\n",
       "</div>"
      ],
      "text/plain": [
       "         Unnamed: 0            lq            ss           emp           ind\n",
       "count  10000.000000  10000.000000  10000.000000  10000.000000  10000.000000\n",
       "mean    2499.500000     -2.028716     -1.038673   3006.209800      2.996200\n",
       "std     1443.447818      5.962566      4.001245   1161.623652      1.407545\n",
       "min        0.000000    -24.440604    -17.845081   1000.000000      1.000000\n",
       "25%     1249.750000     -6.109291     -3.680474   2001.750000      2.000000\n",
       "50%     2499.500000     -1.984134     -1.056515   3002.000000      3.000000\n",
       "75%     3749.250000      1.946252      1.634423   4025.000000      4.000000\n",
       "max     4999.000000     21.383910     14.997987   4999.000000      5.000000"
      ]
     },
     "execution_count": 4,
     "metadata": {},
     "output_type": "execute_result"
    }
   ],
   "source": [
    "industry_df.describe()"
   ]
  },
  {
   "cell_type": "markdown",
   "metadata": {},
   "source": [
    "In this dataset, we have industries' lq and ss information for two countries in Ohio, Adams, and Pike. As we mentioned above, lq and ss represent location quotient analysis and shift-share analysis, respectively. Emp is the number of employees for each firm. The ind indicates the industry codes, which ranges from 1 to 5 for five different industries. Thus, for the next step, we will start to drat the industry cluster bubble charts for Ohio as well as the Adams County. Each state has 5,000 observations. Thus, Ohio has a total of 10,000 observations."
   ]
  },
  {
   "cell_type": "markdown",
   "metadata": {},
   "source": [
    "### Section 3. The Industry Cluster Bubble Charts"
   ]
  },
  {
   "cell_type": "markdown",
   "metadata": {},
   "source": [
    "Since we would like to know the distribution of the industry clusters, we need to calculate the average of lq and ss for each industry. The mean of lq and ss is calculated as follows:"
   ]
  },
  {
   "cell_type": "code",
   "execution_count": 5,
   "metadata": {
    "scrolled": false
   },
   "outputs": [
    {
     "data": {
      "text/html": [
       "<div>\n",
       "<style scoped>\n",
       "    .dataframe tbody tr th:only-of-type {\n",
       "        vertical-align: middle;\n",
       "    }\n",
       "\n",
       "    .dataframe tbody tr th {\n",
       "        vertical-align: top;\n",
       "    }\n",
       "\n",
       "    .dataframe thead th {\n",
       "        text-align: right;\n",
       "    }\n",
       "</style>\n",
       "<table border=\"1\" class=\"dataframe\">\n",
       "  <thead>\n",
       "    <tr style=\"text-align: right;\">\n",
       "      <th></th>\n",
       "      <th>Unnamed: 0</th>\n",
       "      <th>lq</th>\n",
       "      <th>ss</th>\n",
       "      <th>emp</th>\n",
       "    </tr>\n",
       "    <tr>\n",
       "      <th>ind</th>\n",
       "      <th></th>\n",
       "      <th></th>\n",
       "      <th></th>\n",
       "      <th></th>\n",
       "    </tr>\n",
       "  </thead>\n",
       "  <tbody>\n",
       "    <tr>\n",
       "      <th>1</th>\n",
       "      <td>2462.110611</td>\n",
       "      <td>-1.983086</td>\n",
       "      <td>-0.974356</td>\n",
       "      <td>2964.719219</td>\n",
       "    </tr>\n",
       "    <tr>\n",
       "      <th>2</th>\n",
       "      <td>2500.433182</td>\n",
       "      <td>-2.045406</td>\n",
       "      <td>-1.071684</td>\n",
       "      <td>2990.573374</td>\n",
       "    </tr>\n",
       "    <tr>\n",
       "      <th>3</th>\n",
       "      <td>2520.370370</td>\n",
       "      <td>-2.101630</td>\n",
       "      <td>-1.100462</td>\n",
       "      <td>3052.081481</td>\n",
       "    </tr>\n",
       "    <tr>\n",
       "      <th>4</th>\n",
       "      <td>2493.459209</td>\n",
       "      <td>-1.983522</td>\n",
       "      <td>-0.975923</td>\n",
       "      <td>2984.434783</td>\n",
       "    </tr>\n",
       "    <tr>\n",
       "      <th>5</th>\n",
       "      <td>2521.562917</td>\n",
       "      <td>-2.030224</td>\n",
       "      <td>-1.072761</td>\n",
       "      <td>3039.896764</td>\n",
       "    </tr>\n",
       "  </tbody>\n",
       "</table>\n",
       "</div>"
      ],
      "text/plain": [
       "      Unnamed: 0        lq        ss          emp\n",
       "ind                                              \n",
       "1    2462.110611 -1.983086 -0.974356  2964.719219\n",
       "2    2500.433182 -2.045406 -1.071684  2990.573374\n",
       "3    2520.370370 -2.101630 -1.100462  3052.081481\n",
       "4    2493.459209 -1.983522 -0.975923  2984.434783\n",
       "5    2521.562917 -2.030224 -1.072761  3039.896764"
      ]
     },
     "execution_count": 5,
     "metadata": {},
     "output_type": "execute_result"
    }
   ],
   "source": [
    "df_mean = industry_df.groupby(by = 'ind').mean()\n",
    "df_mean.head()"
   ]
  },
  {
   "cell_type": "code",
   "execution_count": 6,
   "metadata": {},
   "outputs": [
    {
     "data": {
      "text/html": [
       "<div>\n",
       "<style scoped>\n",
       "    .dataframe tbody tr th:only-of-type {\n",
       "        vertical-align: middle;\n",
       "    }\n",
       "\n",
       "    .dataframe tbody tr th {\n",
       "        vertical-align: top;\n",
       "    }\n",
       "\n",
       "    .dataframe thead th {\n",
       "        text-align: right;\n",
       "    }\n",
       "</style>\n",
       "<table border=\"1\" class=\"dataframe\">\n",
       "  <thead>\n",
       "    <tr style=\"text-align: right;\">\n",
       "      <th></th>\n",
       "      <th>lq</th>\n",
       "      <th>ss</th>\n",
       "      <th>emp</th>\n",
       "    </tr>\n",
       "    <tr>\n",
       "      <th>ind</th>\n",
       "      <th></th>\n",
       "      <th></th>\n",
       "      <th></th>\n",
       "    </tr>\n",
       "  </thead>\n",
       "  <tbody>\n",
       "    <tr>\n",
       "      <th>1</th>\n",
       "      <td>-2.150623</td>\n",
       "      <td>-0.834014</td>\n",
       "      <td>2946.756122</td>\n",
       "    </tr>\n",
       "    <tr>\n",
       "      <th>2</th>\n",
       "      <td>-2.087895</td>\n",
       "      <td>-1.279593</td>\n",
       "      <td>2994.867327</td>\n",
       "    </tr>\n",
       "    <tr>\n",
       "      <th>3</th>\n",
       "      <td>-2.314774</td>\n",
       "      <td>-1.252373</td>\n",
       "      <td>3053.649000</td>\n",
       "    </tr>\n",
       "    <tr>\n",
       "      <th>4</th>\n",
       "      <td>-1.895107</td>\n",
       "      <td>-0.968003</td>\n",
       "      <td>2999.231454</td>\n",
       "    </tr>\n",
       "    <tr>\n",
       "      <th>5</th>\n",
       "      <td>-1.996667</td>\n",
       "      <td>-1.103184</td>\n",
       "      <td>3022.011011</td>\n",
       "    </tr>\n",
       "  </tbody>\n",
       "</table>\n",
       "</div>"
      ],
      "text/plain": [
       "           lq        ss          emp\n",
       "ind                                 \n",
       "1   -2.150623 -0.834014  2946.756122\n",
       "2   -2.087895 -1.279593  2994.867327\n",
       "3   -2.314774 -1.252373  3053.649000\n",
       "4   -1.895107 -0.968003  2999.231454\n",
       "5   -1.996667 -1.103184  3022.011011"
      ]
     },
     "execution_count": 6,
     "metadata": {},
     "output_type": "execute_result"
    }
   ],
   "source": [
    "df_mean_Adams = df1.groupby(by = 'ind').mean()\n",
    "df_mean_Adams.head()"
   ]
  },
  {
   "cell_type": "markdown",
   "metadata": {},
   "source": [
    "Now we need to plot the 'bubble' of the clustered industry. The following graphs show the industry cluster bubbles for Ohio and Adams county."
   ]
  },
  {
   "cell_type": "code",
   "execution_count": 7,
   "metadata": {},
   "outputs": [
    {
     "data": {
      "image/png": "[encoded data removed]",
      "text/plain": [
       "<Figure size 432x288 with 1 Axes>"
      ]
     },
     "metadata": {
      "needs_background": "light"
     },
     "output_type": "display_data"
    }
   ],
   "source": [
    "size = df_mean['emp']\n",
    "plt.scatter(df_mean['ss'], df_mean['lq'], s=size, alpha=0.6)  # scatters, alpha for opacit\n",
    "plt.ylim([-6, 6])  \n",
    "plt.xlim([-6, 6])   \n",
    "plt.axhline(y=1)\n",
    "plt.axvline()\n",
    "plt.xlabel('Employment Growth')  \n",
    "plt.ylabel('Location Quotient')  \n",
    "plt.show()"
   ]
  },
  {
   "cell_type": "code",
   "execution_count": 8,
   "metadata": {},
   "outputs": [
    {
     "data": {
      "image/png": "[encoded data removed]",
      "text/plain": [
       "<Figure size 432x288 with 1 Axes>"
      ]
     },
     "metadata": {
      "needs_background": "light"
     },
     "output_type": "display_data"
    }
   ],
   "source": [
    "size = df_mean_Adams['emp']\n",
    "plt.scatter(df_mean_Adams['ss'], df_mean_Adams['lq'], s=size, alpha=0.6)  # scatters, alpha for opacit\n",
    "plt.ylim([-6, 6])  \n",
    "plt.xlim([-6, 6])  \n",
    "plt.axhline(y=1)\n",
    "plt.axvline()\n",
    "plt.xlabel('Employment Growth')  \n",
    "plt.ylabel('Location Quotient')  \n",
    "plt.show()"
   ]
  },
  {
   "cell_type": "markdown",
   "metadata": {},
   "source": [
    "Since I create the dataset with random numbers for all the variables, it is no surprise that the 'bubbles' overlap with each other. Thus, previous codes explain how we manipulate the dataset to make the industry cluster bubble charts. Next, I will create a fake sample for Ohio and Adams County to help with the analysis."
   ]
  },
  {
   "cell_type": "code",
   "execution_count": 9,
   "metadata": {},
   "outputs": [
    {
     "data": {
      "text/html": [
       "<div>\n",
       "<style scoped>\n",
       "    .dataframe tbody tr th:only-of-type {\n",
       "        vertical-align: middle;\n",
       "    }\n",
       "\n",
       "    .dataframe tbody tr th {\n",
       "        vertical-align: top;\n",
       "    }\n",
       "\n",
       "    .dataframe thead th {\n",
       "        text-align: right;\n",
       "    }\n",
       "</style>\n",
       "<table border=\"1\" class=\"dataframe\">\n",
       "  <thead>\n",
       "    <tr style=\"text-align: right;\">\n",
       "      <th></th>\n",
       "      <th>ind</th>\n",
       "      <th>emp</th>\n",
       "      <th>lq</th>\n",
       "      <th>ss</th>\n",
       "    </tr>\n",
       "  </thead>\n",
       "  <tbody>\n",
       "    <tr>\n",
       "      <th>0</th>\n",
       "      <td>Finance</td>\n",
       "      <td>1900</td>\n",
       "      <td>-1.4</td>\n",
       "      <td>-7.0</td>\n",
       "    </tr>\n",
       "    <tr>\n",
       "      <th>1</th>\n",
       "      <td>Mining</td>\n",
       "      <td>2532</td>\n",
       "      <td>3.7</td>\n",
       "      <td>-1.3</td>\n",
       "    </tr>\n",
       "    <tr>\n",
       "      <th>2</th>\n",
       "      <td>IT/Telecom</td>\n",
       "      <td>8900</td>\n",
       "      <td>4.9</td>\n",
       "      <td>5.9</td>\n",
       "    </tr>\n",
       "    <tr>\n",
       "      <th>3</th>\n",
       "      <td>Textiles</td>\n",
       "      <td>3423</td>\n",
       "      <td>-1.3</td>\n",
       "      <td>3.9</td>\n",
       "    </tr>\n",
       "    <tr>\n",
       "      <th>4</th>\n",
       "      <td>Biotech</td>\n",
       "      <td>1256</td>\n",
       "      <td>0.6</td>\n",
       "      <td>0.9</td>\n",
       "    </tr>\n",
       "  </tbody>\n",
       "</table>\n",
       "</div>"
      ],
      "text/plain": [
       "          ind   emp   lq   ss\n",
       "0     Finance  1900 -1.4 -7.0\n",
       "1      Mining  2532  3.7 -1.3\n",
       "2  IT/Telecom  8900  4.9  5.9\n",
       "3    Textiles  3423 -1.3  3.9\n",
       "4     Biotech  1256  0.6  0.9"
      ]
     },
     "execution_count": 9,
     "metadata": {},
     "output_type": "execute_result"
    }
   ],
   "source": [
    "from pandas import Series,DataFrame\n",
    "#Ohio data\n",
    "data_Ohio = {'ind':['Finance','Mining','IT/Telecom','Textiles','Biotech'],\n",
    "        'emp':[1900,2532,8900,3423,1256],\n",
    "       'lq':[-1.4,3.7,4.9,-1.3,0.6],\n",
    "       'ss':[-7,-1.3,5.9,3.9,0.9]}\n",
    "df_Ohio = DataFrame(data_Ohio)\n",
    "df_Ohio.head()"
   ]
  },
  {
   "cell_type": "code",
   "execution_count": 10,
   "metadata": {},
   "outputs": [
    {
     "data": {
      "text/html": [
       "<div>\n",
       "<style scoped>\n",
       "    .dataframe tbody tr th:only-of-type {\n",
       "        vertical-align: middle;\n",
       "    }\n",
       "\n",
       "    .dataframe tbody tr th {\n",
       "        vertical-align: top;\n",
       "    }\n",
       "\n",
       "    .dataframe thead th {\n",
       "        text-align: right;\n",
       "    }\n",
       "</style>\n",
       "<table border=\"1\" class=\"dataframe\">\n",
       "  <thead>\n",
       "    <tr style=\"text-align: right;\">\n",
       "      <th></th>\n",
       "      <th>ind</th>\n",
       "      <th>emp</th>\n",
       "      <th>lq</th>\n",
       "      <th>ss</th>\n",
       "    </tr>\n",
       "  </thead>\n",
       "  <tbody>\n",
       "    <tr>\n",
       "      <th>0</th>\n",
       "      <td>Finance</td>\n",
       "      <td>1900</td>\n",
       "      <td>2.9</td>\n",
       "      <td>-3.0</td>\n",
       "    </tr>\n",
       "    <tr>\n",
       "      <th>1</th>\n",
       "      <td>Mining</td>\n",
       "      <td>2532</td>\n",
       "      <td>-3.7</td>\n",
       "      <td>-1.3</td>\n",
       "    </tr>\n",
       "    <tr>\n",
       "      <th>2</th>\n",
       "      <td>IT/Telecom</td>\n",
       "      <td>8900</td>\n",
       "      <td>-4.9</td>\n",
       "      <td>5.9</td>\n",
       "    </tr>\n",
       "    <tr>\n",
       "      <th>3</th>\n",
       "      <td>Textiles</td>\n",
       "      <td>3423</td>\n",
       "      <td>7.0</td>\n",
       "      <td>5.0</td>\n",
       "    </tr>\n",
       "    <tr>\n",
       "      <th>4</th>\n",
       "      <td>Biotech</td>\n",
       "      <td>1256</td>\n",
       "      <td>1.0</td>\n",
       "      <td>1.7</td>\n",
       "    </tr>\n",
       "  </tbody>\n",
       "</table>\n",
       "</div>"
      ],
      "text/plain": [
       "          ind   emp   lq   ss\n",
       "0     Finance  1900  2.9 -3.0\n",
       "1      Mining  2532 -3.7 -1.3\n",
       "2  IT/Telecom  8900 -4.9  5.9\n",
       "3    Textiles  3423  7.0  5.0\n",
       "4     Biotech  1256  1.0  1.7"
      ]
     },
     "execution_count": 10,
     "metadata": {},
     "output_type": "execute_result"
    }
   ],
   "source": [
    "#Adams county data\n",
    "data_Adams = {'ind':['Finance','Mining','IT/Telecom','Textiles','Biotech'],\n",
    "        'emp':[1900,2532,8900,3423,1256],\n",
    "       'lq':[2.9,-3.7,-4.9,7,1],\n",
    "       'ss':[-3,-1.3,5.9,5,1.7]}\n",
    "df_Adams = DataFrame(data_Adams)\n",
    "df_Adams.head()"
   ]
  },
  {
   "cell_type": "markdown",
   "metadata": {},
   "source": [
    "Following previous codes, we re-draw the industry cluster bubble charts for Ohio and Adams county as follows:"
   ]
  },
  {
   "cell_type": "code",
   "execution_count": 11,
   "metadata": {},
   "outputs": [
    {
     "data": {
      "image/png": "[encoded data removed]",
      "text/plain": [
       "<Figure size 432x288 with 1 Axes>"
      ]
     },
     "metadata": {
      "needs_background": "light"
     },
     "output_type": "display_data"
    }
   ],
   "source": [
    "#Ohio industry cluster bubble charts\n",
    "colors=np.random.rand(5) #set bubble color\n",
    "x = df_Ohio['ss']\n",
    "y = df_Ohio['lq']\n",
    "txt = df_Ohio['ind']\n",
    "size = df_Ohio['emp']\n",
    "ax = plt.scatter(x, y, s=size, c=colors, alpha=0.6)  # scatters, alpha for opacit\n",
    "plt.ylim([-10, 10])  \n",
    "plt.xlim([-10, 10])  \n",
    "plt.axhline(y=1)\n",
    "plt.axvline()\n",
    "for i in range(len(x)):\n",
    "    plt.annotate(txt[i], xy = (x[i], y[i]), xytext = (x[i]-1.1, y[i]))\n",
    "plt.title('Industry Cluster Bubble Charts for Ohio')\n",
    "plt.xlabel('Employment Growth')      \n",
    "plt.ylabel('Location Quotient')  \n",
    "plt.show()"
   ]
  },
  {
   "cell_type": "markdown",
   "metadata": {},
   "source": [
    "Among all of the five industries, we can see that the IT/Telecommunication employs the most people and have a relatively higher location quotient compared with the national level. Also, over the past five years, IT/Telecommunication had the highest employment growth rate among all industries. On the opposite is the Finance industry, which can be considered as the declining industry in the state. Besides, mining is a mature industry across the state. We should note that Biotch and Textile are rising over the past five years."
   ]
  },
  {
   "cell_type": "code",
   "execution_count": 12,
   "metadata": {},
   "outputs": [
    {
     "data": {
      "image/png": "[encoded data removed]",
      "text/plain": [
       "<Figure size 432x288 with 1 Axes>"
      ]
     },
     "metadata": {
      "needs_background": "light"
     },
     "output_type": "display_data"
    }
   ],
   "source": [
    "#Adams county industry cluster bubble charts\n",
    "colors=np.random.rand(5) #set bubble color\n",
    "x = df_Adams['ss']\n",
    "y = df_Adams['lq']\n",
    "txt = df_Adams['ind']\n",
    "size = df_Adams['emp']\n",
    "ax = plt.scatter(x, y, s=size, c=colors, alpha=0.6)  # scatters, alpha for opacit\n",
    "plt.ylim([-10, 10])  \n",
    "plt.xlim([-10, 10])  \n",
    "plt.axhline(y=1)\n",
    "plt.axvline()\n",
    "for i in range(len(x)):\n",
    "    plt.annotate(txt[i], xy = (x[i], y[i]), xytext = (x[i]-1.1, y[i]))\n",
    "plt.title('Industry Cluster Bubble Charts for Adams County')\n",
    "plt.xlabel('Employment Growth')      \n",
    "plt.ylabel('Location Quotient')  \n",
    "plt.show()"
   ]
  },
  {
   "cell_type": "markdown",
   "metadata": {},
   "source": [
    "Now we turn to Adams County. The star industry becomes Textile, and the IT/Telecommunication is emerging(with the highest employment growth). We may expect to see IT/Telecommunication becomes the star industry of the Adams county as the Ohio state. Finance is the mature industry, and Mining is declining. Pretty similar to the situation over the Ohio state, Textile, Biotech, and IT/Telecommunication are up-and-coming industries. "
   ]
  },
  {
   "cell_type": "markdown",
   "metadata": {},
   "source": [
    "### Section 4. Discussion of Challenges"
   ]
  },
  {
   "cell_type": "markdown",
   "metadata": {},
   "source": [
    "The industry cluster bubble chart is a useful way to provide intuitive analysis for local economic development. Even though I have studied economics for years, it is the first time for me to draw the graphs. The challenges are mainly in two ways. First, I need to get familiar with the method, understand the economic meaning of the bubble chart, and provide detailed analysis based on the results I get from the hypothetical data. \n",
    "Second, since I do not have the actual data for each industry, it is hard to provide accurate graphs and make a precise analysis. Even though I present my codes on how to group the observations by industry and draw the graphs, I only get figures with overlapped 'bubbles' due to the randomly distributed setting of lq, ss, and the number of jobs. Thus, at last, I have to create hypothetical values for Ohio and Adams county. "
   ]
  }
 ],
 "metadata": {
  "kernelspec": {
   "display_name": "Python 3",
   "language": "python",
   "name": "python3"
  },
  "language_info": {
   "codemirror_mode": {
    "name": "ipython",
    "version": 3
   },
   "file_extension": ".py",
   "mimetype": "text/x-python",
   "name": "python",
   "nbconvert_exporter": "python",
   "pygments_lexer": "ipython3",
   "version": "3.8.0"
  }
 },
 "nbformat": 4,
 "nbformat_minor": 4
}
